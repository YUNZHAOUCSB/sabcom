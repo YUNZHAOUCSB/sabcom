{
 "cells": [
  {
   "cell_type": "code",
   "execution_count": 1,
   "metadata": {},
   "outputs": [],
   "source": [
    "import numpy as np\n",
    "import pandas as pd\n",
    "import matplotlib.pyplot as plt\n",
    "from matplotlib import style\n",
    "import time\n",
    "import ipywidgets as wg\n",
    "from ipywidgets import interact\n",
    "from IPython.display import display\n",
    "import networkx as nx\n",
    "from src.environment import EnvironmentNetwork\n",
    "from src.runner import Runner\n",
    "import random\n",
    "import json"
   ]
  },
  {
   "cell_type": "code",
   "execution_count": 2,
   "metadata": {},
   "outputs": [],
   "source": [
    "style.use('seaborn-white')"
   ]
  },
  {
   "cell_type": "markdown",
   "metadata": {},
   "source": [
    "# Setting the parameters"
   ]
  },
  {
   "cell_type": "code",
   "execution_count": 3,
   "metadata": {},
   "outputs": [],
   "source": [
    "age_groups = ['age_0_10', 'age_10_20', 'age_20_30', 'age_30_40', 'age_40_50', \n",
    "              'age_50_60', 'age_60_70', 'age_70_80', 'age_80_plus']"
   ]
  },
  {
   "cell_type": "code",
   "execution_count": 4,
   "metadata": {},
   "outputs": [],
   "source": [
    "parameters = {\n",
    "    # general simulation parameters\n",
    "    \"time\": 90,\n",
    "    \"number_of_agents\": 100,\n",
    "    \"monte_carlo_runs\": 5,\n",
    "    \"high_performance\": False,\n",
    "    # specific simulation parameters\n",
    "    \"share_inital_agents_infected\": 0.01, # percentage of agents infected randomly at the start of the simulation\n",
    "    \"highest_density_neighbourhood\": 0.4, # percentage of nodes the highest density neighbourhoods has compared to caveman graph\n",
    "    \"incubation_days\": 5, # average number of days agents are infected but do not have symptoms SOURCE Zhang et al. 2020\n",
    "    \"symptom_days\": 10,# average number of days agents have mild symptoms\n",
    "    \"critical_days\": 20, # average number of days agents are in critical condition\n",
    "    \"health_system_capacity\": 0.0028, # relative (in terms of population) capacity of the hospitals\n",
    "    \"no_hospital_multiplier\": 1.79, # the increase in probability if a critical agent cannot go to the hospital SOURCE: Zhou et al. 2020\n",
    "    \"travel_sample_size\": 0.05, # amount of agents that an agent might choose to travel to\n",
    "    # agent parameters\n",
    "    \"probability_transmission\": 0.20, # should be estimated to replicate realistic R0 number.\n",
    "    \"probability_to_travel\": 0.25, # should be estimated to replicate travel data \n",
    "    \"probability_critical\": {key:value for key, value in zip(age_groups, [0.05, 0.05, 0.05, 0.05, 0.063, 0.122, 0.274, 0.432, 0.709])}, # probability that an agent enters a critical stage of the disease SOURCE: Verity et al.\n",
    "    \"probability_to_die\": {key:value for key, value in zip(age_groups, [0.00002, 0.00006, 0.0003, 0.0008, 0.0015, 0.006, 0.022, 0.051, 0.093])}, # probability to die per age group in critical stage SOURCE: Verity et al.\n",
    "    \"probability_susceptible\": 0.000, # probability that the agent will again be susceptible after having recovered\n",
    "}"
   ]
  },
  {
   "cell_type": "markdown",
   "metadata": {},
   "source": [
    "Store parameters in JSON file."
   ]
  },
  {
   "cell_type": "code",
   "execution_count": 5,
   "metadata": {},
   "outputs": [],
   "source": [
    "with open('parameters.json', 'w') as outfile:\n",
    "    json.dump(parameters, outfile)"
   ]
  },
  {
   "cell_type": "markdown",
   "metadata": {},
   "source": [
    "# Generate neighbourhood data using Ward data from Cape Town"
   ]
  },
  {
   "cell_type": "code",
   "execution_count": 6,
   "metadata": {},
   "outputs": [],
   "source": [
    "population = pd.read_csv('population.csv')"
   ]
  },
  {
   "cell_type": "code",
   "execution_count": 7,
   "metadata": {},
   "outputs": [
    {
     "data": {
      "text/html": [
       "<div>\n",
       "<style scoped>\n",
       "    .dataframe tbody tr th:only-of-type {\n",
       "        vertical-align: middle;\n",
       "    }\n",
       "\n",
       "    .dataframe tbody tr th {\n",
       "        vertical-align: top;\n",
       "    }\n",
       "\n",
       "    .dataframe thead th {\n",
       "        text-align: right;\n",
       "    }\n",
       "</style>\n",
       "<table border=\"1\" class=\"dataframe\">\n",
       "  <thead>\n",
       "    <tr style=\"text-align: right;\">\n",
       "      <th></th>\n",
       "      <th>WardID</th>\n",
       "      <th>Population</th>\n",
       "      <th>Area</th>\n",
       "      <th>Density</th>\n",
       "      <th>lon</th>\n",
       "      <th>lat</th>\n",
       "    </tr>\n",
       "  </thead>\n",
       "  <tbody>\n",
       "    <tr>\n",
       "      <th>0</th>\n",
       "      <td>19100001</td>\n",
       "      <td>26434.07345</td>\n",
       "      <td>27213.359916</td>\n",
       "      <td>0.971364</td>\n",
       "      <td>18.612025</td>\n",
       "      <td>-33.857307</td>\n",
       "    </tr>\n",
       "    <tr>\n",
       "      <th>1</th>\n",
       "      <td>19100002</td>\n",
       "      <td>29914.18993</td>\n",
       "      <td>9222.458013</td>\n",
       "      <td>3.243624</td>\n",
       "      <td>18.422324</td>\n",
       "      <td>-34.069837</td>\n",
       "    </tr>\n",
       "    <tr>\n",
       "      <th>2</th>\n",
       "      <td>19100003</td>\n",
       "      <td>25735.62250</td>\n",
       "      <td>10891.277732</td>\n",
       "      <td>2.362957</td>\n",
       "      <td>18.476290</td>\n",
       "      <td>-34.048938</td>\n",
       "    </tr>\n",
       "  </tbody>\n",
       "</table>\n",
       "</div>"
      ],
      "text/plain": [
       "     WardID   Population          Area   Density        lon        lat\n",
       "0  19100001  26434.07345  27213.359916  0.971364  18.612025 -33.857307\n",
       "1  19100002  29914.18993   9222.458013  3.243624  18.422324 -34.069837\n",
       "2  19100003  25735.62250  10891.277732  2.362957  18.476290 -34.048938"
      ]
     },
     "execution_count": 7,
     "metadata": {},
     "output_type": "execute_result"
    }
   ],
   "source": [
    "population.head(3)"
   ]
  },
  {
   "cell_type": "markdown",
   "metadata": {},
   "source": [
    "Because the amount of agents are less than in the actual population of Cape Town, we filter some wards so that all of them are at least populated with an agent. Therefore, we calculate the smallest size of a neighbourhood should have as follows."
   ]
  },
  {
   "cell_type": "code",
   "execution_count": 8,
   "metadata": {},
   "outputs": [],
   "source": [
    "smallest_size = population['Population'].sum() / parameters['number_of_agents']"
   ]
  },
  {
   "cell_type": "markdown",
   "metadata": {},
   "source": [
    "Next, we tranform the neighbourhoods to a list format that feeds into the model. "
   ]
  },
  {
   "cell_type": "code",
   "execution_count": 9,
   "metadata": {},
   "outputs": [],
   "source": [
    "neighbourhood_data = []\n",
    "for i in range(len(population)):\n",
    "    if population['Population'].iloc[i] > smallest_size:\n",
    "        neighbourhood_data.append(\n",
    "            [int(population['WardID'].iloc[i]), {'Population': population['Population'].iloc[i],\n",
    "                                                            'Density': population['Density'].iloc[i],\n",
    "                                                            'lon': population['lon'].iloc[i],\n",
    "                                                            'lat': population['lat'].iloc[i]}])"
   ]
  },
  {
   "cell_type": "markdown",
   "metadata": {},
   "source": [
    "If you want to do a smaller trial run of the model you can further limit the amount of neighbourhoods by setting the following parameter. "
   ]
  },
  {
   "cell_type": "code",
   "execution_count": 10,
   "metadata": {},
   "outputs": [],
   "source": [
    "max_neighbourhoods = len(neighbourhood_data)"
   ]
  },
  {
   "cell_type": "code",
   "execution_count": 11,
   "metadata": {},
   "outputs": [],
   "source": [
    "with open('neighbourhood_data.json', 'w') as outfile:\n",
    "    json.dump(neighbourhood_data[:max_neighbourhoods], outfile)"
   ]
  },
  {
   "cell_type": "markdown",
   "metadata": {},
   "source": [
    "### Load age data"
   ]
  },
  {
   "cell_type": "code",
   "execution_count": 13,
   "metadata": {},
   "outputs": [],
   "source": [
    "# load age data\n",
    "age_distribution = pd.read_csv('age_dist.csv', sep=';', index_col=0)\n",
    "age_distribution_per_ward = dict(age_distribution.transpose())"
   ]
  },
  {
   "cell_type": "markdown",
   "metadata": {},
   "source": [
    "The next step is to either run the model in the SABCoModel.py file or run it here in the notebook. When running it in the notebook the initialization starts here. \n",
    "\n",
    "# Initialization"
   ]
  },
  {
   "cell_type": "code",
   "execution_count": 14,
   "metadata": {},
   "outputs": [],
   "source": [
    "environment = EnvironmentNetwork(1, parameters, neighbourhood_data, age_distribution_per_ward)"
   ]
  },
  {
   "cell_type": "markdown",
   "metadata": {},
   "source": [
    "# Simulation"
   ]
  },
  {
   "cell_type": "code",
   "execution_count": 15,
   "metadata": {},
   "outputs": [],
   "source": [
    "runner = Runner()\n",
    "runner.do_run(environment, 1)"
   ]
  },
  {
   "cell_type": "markdown",
   "metadata": {},
   "source": [
    "### Save network data"
   ]
  },
  {
   "cell_type": "code",
   "execution_count": 16,
   "metadata": {},
   "outputs": [],
   "source": [
    "for idx, network in enumerate(environment.infection_states):\n",
    "    for i, node in enumerate(network.nodes):\n",
    "        network.nodes[i]['agent'] = network.nodes[i]['agent'].status\n",
    "\n",
    "    nx.write_graphml_lxml(network, \"measurement/network_time{}.graphml\".format(idx))"
   ]
  },
  {
   "cell_type": "markdown",
   "metadata": {},
   "source": [
    "### Read data "
   ]
  },
  {
   "cell_type": "code",
   "execution_count": 17,
   "metadata": {},
   "outputs": [],
   "source": [
    "infection_states = []\n",
    "for idx in range(parameters[\"time\"]):\n",
    "    infection_states.append(nx.read_graphml(\"measurement/network_time{}.graphml\".format(idx), node_type=int))"
   ]
  },
  {
   "cell_type": "markdown",
   "metadata": {},
   "source": [
    "## Draw"
   ]
  },
  {
   "cell_type": "code",
   "execution_count": 18,
   "metadata": {},
   "outputs": [],
   "source": [
    "pos = nx.spring_layout(infection_states[0])"
   ]
  },
  {
   "cell_type": "code",
   "execution_count": 19,
   "metadata": {},
   "outputs": [],
   "source": [
    "def plot_model(t):\n",
    "    network = infection_states[t]\n",
    "    color_map = []\n",
    "    for idx, node in enumerate(network):\n",
    "        if network.nodes[idx]['agent'] == 's':\n",
    "            color_map.append('blue')\n",
    "        elif network.nodes[idx]['agent'] == 'i1':\n",
    "            color_map.append('pink')\n",
    "        elif network.nodes[idx]['agent'] == 'i2':\n",
    "            color_map.append('red')\n",
    "        elif network.nodes[idx]['agent'] == 'c':\n",
    "            color_map.append('brown')\n",
    "        elif network.nodes[idx]['agent'] == 'd':\n",
    "            color_map.append('black')\n",
    "        elif network.nodes[idx]['agent'] == 'r':\n",
    "            color_map.append('grey')\n",
    "    nx.draw(network, pos=pos, node_color=color_map, with_labels=True)"
   ]
  },
  {
   "cell_type": "code",
   "execution_count": 20,
   "metadata": {},
   "outputs": [
    {
     "data": {
      "application/vnd.jupyter.widget-view+json": {
       "model_id": "4d46970ef10d427d9dc17cd80ebdb892",
       "version_major": 2,
       "version_minor": 0
      },
      "text/plain": [
       "interactive(children=(IntSlider(value=0, description='Time step', max=89), Output()), _dom_classes=('widget-in…"
      ]
     },
     "metadata": {},
     "output_type": "display_data"
    },
    {
     "data": {
      "text/plain": [
       "<function __main__.plot_model(t)>"
      ]
     },
     "execution_count": 20,
     "metadata": {},
     "output_type": "execute_result"
    }
   ],
   "source": [
    "time_period = wg.IntSlider(description='Time step', min=0, max=parameters['time']-1)\n",
    "wg.interact(plot_model, t=time_period)"
   ]
  },
  {
   "cell_type": "markdown",
   "metadata": {},
   "source": [
    "Graph"
   ]
  },
  {
   "cell_type": "code",
   "execution_count": 21,
   "metadata": {},
   "outputs": [],
   "source": [
    "susceptible_ot = []\n",
    "infected_1_ot = []\n",
    "infected_2_ot = []\n",
    "critical_ot = []\n",
    "dead_ot = []\n",
    "recovered_ot = []\n",
    "\n",
    "for t in range(parameters['time']):\n",
    "    network = infection_states[t]\n",
    "    susceptible = 0\n",
    "    infected_1 = 0\n",
    "    infected_2 = 0\n",
    "    critical = 0\n",
    "    dead = 0\n",
    "    recovered = 0\n",
    "    for idx, node in enumerate(network):\n",
    "        if network.nodes[idx]['agent'] == 's':\n",
    "            susceptible += 1\n",
    "        elif network.nodes[idx]['agent'] == 'i1':\n",
    "            infected_1 += 1\n",
    "        elif network.nodes[idx]['agent'] == 'i2':\n",
    "            infected_2 += 1\n",
    "        elif network.nodes[idx]['agent'] == 'c':\n",
    "            critical += 1\n",
    "        elif network.nodes[idx]['agent'] == 'd':\n",
    "            dead += 1\n",
    "        elif network.nodes[idx]['agent'] == 'r':\n",
    "            recovered +=1\n",
    "        else:\n",
    "            print('no status?')\n",
    "    \n",
    "    susceptible_ot.append((susceptible / float(len(network))) * population['Population'].sum())\n",
    "    infected_1_ot.append((infected_1 / float(len(network))) * population['Population'].sum())\n",
    "    infected_2_ot.append((infected_2 / float(len(network)))  * population['Population'].sum())\n",
    "    critical_ot.append((critical / float(len(network)))  * population['Population'].sum())\n",
    "    dead_ot.append((dead / float(len(network)))  * population['Population'].sum())\n",
    "    recovered_ot.append((recovered / float(len(network)))  * population['Population'].sum())"
   ]
  },
  {
   "cell_type": "code",
   "execution_count": 22,
   "metadata": {},
   "outputs": [
    {
     "data": {
      "text/plain": [
       "(0, 3740030.74811)"
      ]
     },
     "execution_count": 22,
     "metadata": {},
     "output_type": "execute_result"
    },
    {
     "data": {
      "image/png": "[encoded data removed]",
      "text/plain": [
       "<Figure size 1008x576 with 1 Axes>"
      ]
     },
     "metadata": {},
     "output_type": "display_data"
    }
   ],
   "source": [
    "fig, ax = plt.subplots(figsize=(14,8))\n",
    "\n",
    "x = [x for x in range(parameters['time'])]\n",
    "\n",
    "labels = ['critical', 'infected-2', 'infected-1', 'recovered', 'susceptible', 'dead']\n",
    "\n",
    "y = np.vstack([critical_ot, infected_2_ot, infected_1_ot, recovered_ot, susceptible_ot, dead_ot])\n",
    "\n",
    "ax.axhline(parameters['health_system_capacity'] * population['Population'].sum(), color='black')\n",
    "\n",
    "pal = [\"#f9b4ad\", \"#1b81c2\", \"#91b7d1\", \"#b7f0a5\", \"#e0e4ec\",\"#000000\"]\n",
    "\n",
    "ax.stackplot(x, y, colors= pal, labels=labels)\n",
    "ax.legend(loc='best', fontsize='14', frameon=True)\n",
    "ax.set_ylabel('Cape Town population', fontsize='14')\n",
    "ax.set_xlabel('Days', fontsize='14')\n",
    "\n",
    "plt.xlim([0,parameters['time']])\n",
    "plt.ylim([0, population['Population'].sum()])\n",
    "\n",
    "#fig.savefig('measurement/the_curve.png')"
   ]
  },
  {
   "cell_type": "code",
   "execution_count": null,
   "metadata": {},
   "outputs": [],
   "source": []
  }
 ],
 "metadata": {
  "kernelspec": {
   "display_name": "Python 3",
   "language": "python",
   "name": "python3"
  },
  "language_info": {
   "codemirror_mode": {
    "name": "ipython",
    "version": 3
   },
   "file_extension": ".py",
   "mimetype": "text/x-python",
   "name": "python",
   "nbconvert_exporter": "python",
   "pygments_lexer": "ipython3",
   "version": "3.7.3"
  }
 },
 "nbformat": 4,
 "nbformat_minor": 2
}
