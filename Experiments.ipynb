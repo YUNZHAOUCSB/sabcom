{
 "cells": [
  {
   "cell_type": "code",
   "execution_count": 1,
   "metadata": {},
   "outputs": [],
   "source": [
    "import numpy as np\n",
    "import pandas as pd\n",
    "import matplotlib.pyplot as plt\n",
    "from matplotlib import style\n",
    "import time\n",
    "import ipywidgets as wg\n",
    "from ipywidgets import interact\n",
    "from IPython.display import display\n",
    "import networkx as nx\n",
    "from src.environment import EnvironmentNetwork\n",
    "from src.runner import Runner\n",
    "import random\n",
    "import json\n",
    "from sklearn import preprocessing"
   ]
  },
  {
   "cell_type": "markdown",
   "metadata": {},
   "source": [
    "### Generate the baseline data"
   ]
  },
  {
   "cell_type": "code",
   "execution_count": null,
   "metadata": {},
   "outputs": [],
   "source": [
    "population = pd.read_csv('population.csv')"
   ]
  },
  {
   "cell_type": "code",
   "execution_count": 2,
   "metadata": {},
   "outputs": [],
   "source": [
    "infection_states_base = []\n",
    "for idx in range(90):\n",
    "    infection_states_base.append(nx.read_graphml(\"measurement/network_time{}.graphml\".format(idx), node_type=int))"
   ]
  },
  {
   "cell_type": "code",
   "execution_count": 10,
   "metadata": {},
   "outputs": [],
   "source": [
    "susceptible_ot_base = []\n",
    "infected_1_ot_base = []\n",
    "infected_2_ot_base = []\n",
    "critical_ot_base = []\n",
    "dead_ot_base = []\n",
    "recovered_ot_base = []\n",
    "\n",
    "for t in range(90):\n",
    "    network = infection_states_base[t]\n",
    "    susceptible = 0\n",
    "    infected_1 = 0\n",
    "    infected_2 = 0\n",
    "    critical = 0\n",
    "    dead = 0\n",
    "    recovered = 0\n",
    "    for idx, node in enumerate(network):\n",
    "        if network.nodes[idx]['agent'] == 's':\n",
    "            susceptible += 1\n",
    "        elif network.nodes[idx]['agent'] == 'i1':\n",
    "            infected_1 += 1\n",
    "        elif network.nodes[idx]['agent'] == 'i2':\n",
    "            infected_2 += 1\n",
    "        elif network.nodes[idx]['agent'] == 'c':\n",
    "            critical += 1\n",
    "        elif network.nodes[idx]['agent'] == 'd':\n",
    "            dead += 1\n",
    "        elif network.nodes[idx]['agent'] == 'r':\n",
    "            recovered +=1\n",
    "        else:\n",
    "            print('no status?')\n",
    "    \n",
    "    susceptible_ot_base.append((susceptible / float(len(network))) * population['Population'].sum())\n",
    "    infected_1_ot_base.append((infected_1 / float(len(network))) * population['Population'].sum())\n",
    "    infected_2_ot_base.append((infected_2 / float(len(network)))  * population['Population'].sum())\n",
    "    critical_ot_base.append((critical / float(len(network)))  * population['Population'].sum())\n",
    "    dead_ot_base.append((dead / float(len(network)))  * population['Population'].sum())\n",
    "    recovered_ot_base.append((recovered / float(len(network)))  * population['Population'].sum())"
   ]
  },
  {
   "cell_type": "markdown",
   "metadata": {},
   "source": [
    "# Experiments\n",
    "\n",
    "There are three initial experiments which are compared to a baseline of no policy interventions. These three scenarios are:\n",
    "\n",
    "1. A five week lock-down\n",
    "2. A five week lock-down but without effect in the Townships\n",
    "3. A lock down for vulnerable people\n",
    "\n",
    "### Experiment 1: five week lockdown"
   ]
  },
  {
   "cell_type": "code",
   "execution_count": 32,
   "metadata": {},
   "outputs": [],
   "source": [
    "age_groups = ['age_0_10', 'age_10_20', 'age_20_30', 'age_30_40', 'age_40_50', \n",
    "              'age_50_60', 'age_60_70', 'age_70_80', 'age_80_plus']"
   ]
  },
  {
   "cell_type": "code",
   "execution_count": 33,
   "metadata": {},
   "outputs": [],
   "source": [
    "parameters = {\n",
    "    # general simulation parameters\n",
    "    \"time\": 90,\n",
    "    \"number_of_agents\": 100,\n",
    "    \"monte_carlo_runs\": 1,\n",
    "    \"high_performance\": False,\n",
    "    # specific simulation parameters\n",
    "    \"share_inital_agents_infected\": 0.01, # percentage of agents infected randomly at the start of the simulation\n",
    "    \"highest_density_neighbourhood\": 0.4, # percentage of nodes the highest density neighbourhoods has compared to caveman graph\n",
    "    \"incubation_days\": 5, # average number of days agents are infected but do not have symptoms SOURCE Zhang et al. 2020\n",
    "    \"symptom_days\": 10,# average number of days agents have mild symptoms\n",
    "    \"critical_days\": 8, # average number of days agents are in critical condition\n",
    "    \"health_system_capacity\": 0.0021, # relative (in terms of population) capacity of the hospitals\n",
    "    \"no_hospital_multiplier\": 1.79, # the increase in probability if a critical agent cannot go to the hospital SOURCE: Zhou et al. 2020\n",
    "    \"travel_sample_size\": 0.02, # amount of agents that an agent might choose to travel to\n",
    "    # agent parameters\n",
    "    \"probability_transmission\": 0.25, # should be estimated to replicate realistic R0 number.\n",
    "    \"probability_to_travel\": 0.3, # should be estimated to replicate travel data \n",
    "    \"probability_critical\": {key:value for key, value in zip(age_groups, [0.001, 0.003, 0.012, 0.032, 0.049, 0.102, 0.166, 0.244, 0.273])}, # probability that an agent enters a critical stage of the disease SOURCE: Verity et al.\n",
    "    \"probability_to_die\": {key:value for key, value in zip(age_groups, [0.005, 0.021, 0.053, 0.126, 0.221, 0.303, 0.565, 0.653, 0.765])}, # probability to die per age group in critical stage SOURCE: Verity et al.\n",
    "    \"probability_susceptible\": 0.000, # probability that the agent will again be susceptible after having recovered\n",
    "    # experiment parameter\n",
    "    \"lockdown_days\" : [x for x in range(22, 57)], # 5 march was the first reported case, 27 march was the start of the lockdown 35 days\n",
    "    \"lockdown_travel_multiplier\": 0.5, # need estimate for this\n",
    "    \"lockdown_infection_multiplier\": 0.4 # need estimate for this\n",
    "}"
   ]
  },
  {
   "cell_type": "code",
   "execution_count": 34,
   "metadata": {},
   "outputs": [],
   "source": [
    "with open('parameters/lock_down/parameters.json', 'w') as outfile:\n",
    "    json.dump(parameters, outfile)"
   ]
  },
  {
   "cell_type": "code",
   "execution_count": 35,
   "metadata": {},
   "outputs": [],
   "source": [
    "smallest_size = population['Population'].sum() / parameters['number_of_agents']\n",
    "neighbourhood_data = []\n",
    "for i in range(len(population)):\n",
    "    if population['Population'].iloc[i] > smallest_size:\n",
    "        neighbourhood_data.append(\n",
    "            [int(population['WardID'].iloc[i]), {'Population': population['Population'].iloc[i],\n",
    "                                                 'Density': population['Density'].iloc[i],\n",
    "                                                 'lon': population['lon'].iloc[i],\n",
    "                                                 'lat': population['lat'].iloc[i]\n",
    "                                                },\n",
    "            ])\n",
    "max_neighbourhoods = len(neighbourhood_data)"
   ]
  },
  {
   "cell_type": "code",
   "execution_count": 36,
   "metadata": {},
   "outputs": [],
   "source": [
    "with open('parameters/lock_down/neighbourhood_data.json', 'w') as outfile:\n",
    "    json.dump(neighbourhood_data[:max_neighbourhoods], outfile)"
   ]
  },
  {
   "cell_type": "code",
   "execution_count": 37,
   "metadata": {},
   "outputs": [],
   "source": [
    "# load age data\n",
    "age_distribution = pd.read_csv('age_dist.csv', sep=';', index_col=0)\n",
    "age_distribution_per_ward = dict(age_distribution.transpose())"
   ]
  },
  {
   "cell_type": "markdown",
   "metadata": {},
   "source": [
    "### Run lockdown experiment"
   ]
  },
  {
   "cell_type": "code",
   "execution_count": 38,
   "metadata": {},
   "outputs": [],
   "source": [
    "environment = EnvironmentNetwork(0, parameters, neighbourhood_data, age_distribution_per_ward)\n",
    "runner = Runner()\n",
    "runner.lock_down(environment, 0)"
   ]
  },
  {
   "cell_type": "markdown",
   "metadata": {},
   "source": [
    "Safe network"
   ]
  },
  {
   "cell_type": "code",
   "execution_count": 39,
   "metadata": {},
   "outputs": [],
   "source": [
    "for idx, network in enumerate(environment.infection_states):\n",
    "    for i, node in enumerate(network.nodes):\n",
    "        network.nodes[i]['agent'] = network.nodes[i]['agent'].status\n",
    "\n",
    "    nx.write_graphml_lxml(network, \"measurement/network_time{}.graphml\".format(idx))"
   ]
  },
  {
   "cell_type": "code",
   "execution_count": 40,
   "metadata": {},
   "outputs": [],
   "source": [
    "infection_states = []\n",
    "for idx in range(parameters[\"time\"]):\n",
    "    infection_states.append(nx.read_graphml(\"measurement/network_time{}.graphml\".format(idx), node_type=int))"
   ]
  },
  {
   "cell_type": "code",
   "execution_count": 41,
   "metadata": {},
   "outputs": [],
   "source": [
    "susceptible_ot = []\n",
    "infected_1_ot = []\n",
    "infected_2_ot = []\n",
    "critical_ot = []\n",
    "dead_ot = []\n",
    "recovered_ot = []\n",
    "\n",
    "for t in range(parameters['time']):\n",
    "    network = infection_states[t]\n",
    "    susceptible = 0\n",
    "    infected_1 = 0\n",
    "    infected_2 = 0\n",
    "    critical = 0\n",
    "    dead = 0\n",
    "    recovered = 0\n",
    "    for idx, node in enumerate(network):\n",
    "        if network.nodes[idx]['agent'] == 's':\n",
    "            susceptible += 1\n",
    "        elif network.nodes[idx]['agent'] == 'i1':\n",
    "            infected_1 += 1\n",
    "        elif network.nodes[idx]['agent'] == 'i2':\n",
    "            infected_2 += 1\n",
    "        elif network.nodes[idx]['agent'] == 'c':\n",
    "            critical += 1\n",
    "        elif network.nodes[idx]['agent'] == 'd':\n",
    "            dead += 1\n",
    "        elif network.nodes[idx]['agent'] == 'r':\n",
    "            recovered +=1\n",
    "        else:\n",
    "            print('no status?')\n",
    "    \n",
    "    susceptible_ot.append((susceptible / float(len(network))) * population['Population'].sum())\n",
    "    infected_1_ot.append((infected_1 / float(len(network))) * population['Population'].sum())\n",
    "    infected_2_ot.append((infected_2 / float(len(network)))  * population['Population'].sum())\n",
    "    critical_ot.append((critical / float(len(network)))  * population['Population'].sum())\n",
    "    dead_ot.append((dead / float(len(network)))  * population['Population'].sum())\n",
    "    recovered_ot.append((recovered / float(len(network)))  * population['Population'].sum())"
   ]
  },
  {
   "cell_type": "code",
   "execution_count": 42,
   "metadata": {},
   "outputs": [
    {
     "data": {
      "image/png": "[encoded data removed]",
      "text/plain": [
       "<Figure size 1296x576 with 2 Axes>"
      ]
     },
     "metadata": {
      "needs_background": "light"
     },
     "output_type": "display_data"
    }
   ],
   "source": [
    "fig, (ax, ax_base) = plt.subplots(1, 2, figsize=(18,8))\n",
    "\n",
    "x = [x for x in range(parameters['time'])]\n",
    "\n",
    "labels = ['critical', 'infected-2', 'infected-1', 'recovered', 'susceptible', 'dead']\n",
    "\n",
    "y = np.vstack([critical_ot, infected_2_ot, infected_1_ot, recovered_ot, susceptible_ot, dead_ot])\n",
    "\n",
    "ax.axhline(parameters['health_system_capacity'] * population['Population'].sum(), color='black')\n",
    "ax.axvline(parameters[\"lockdown_days\"][0], color='black')\n",
    "ax.axvline(parameters[\"lockdown_days\"][-1], color='black')\n",
    "\n",
    "pal = [\"#f9b4ad\", \"#1b81c2\", \"#91b7d1\", \"#b7f0a5\", \"#e0e4ec\",\"#000000\"]\n",
    "\n",
    "ax.stackplot(x, y, colors= pal, labels=labels)\n",
    "ax.legend(loc='best', fontsize='14', frameon=True)\n",
    "ax.set_ylabel('Cape Town population', fontsize='14')\n",
    "ax.set_xlabel('Days', fontsize='14')\n",
    "\n",
    "ax.set_xlim([0,parameters['time']])\n",
    "ax.set_ylim([0, population['Population'].sum()])\n",
    "ax.set_title('lock down', fontsize='14')\n",
    "\n",
    "# baseline\n",
    "y_base = np.vstack([critical_ot_base, infected_2_ot_base, infected_1_ot_base, recovered_ot_base, susceptible_ot_base, dead_ot_base])\n",
    "\n",
    "ax_base.axhline(parameters['health_system_capacity'] * population['Population'].sum(), color='black')\n",
    "\n",
    "pal = [\"#f9b4ad\", \"#1b81c2\", \"#91b7d1\", \"#b7f0a5\", \"#e0e4ec\",\"#000000\"]\n",
    "\n",
    "ax_base.stackplot(x, y_base, colors= pal, labels=labels)\n",
    "ax_base.legend(loc='best', fontsize='14', frameon=True)\n",
    "ax_base.set_ylabel('Cape Town population', fontsize='14')\n",
    "ax_base.set_xlabel('Days', fontsize='14')\n",
    "\n",
    "ax_base.set_xlim([0,parameters['time']])\n",
    "ax_base.set_ylim([0, population['Population'].sum()])\n",
    "\n",
    "ax_base.set_title('baseline', fontsize='14')\n",
    "\n",
    "fig.savefig('measurement/lock_down_v_no_lockdown.png')"
   ]
  },
  {
   "cell_type": "markdown",
   "metadata": {},
   "source": [
    "### Experiment 2: five week lockdown but less effect in informal settlements. "
   ]
  },
  {
   "cell_type": "code",
   "execution_count": 15,
   "metadata": {},
   "outputs": [],
   "source": [
    "age_groups = ['age_0_10', 'age_10_20', 'age_20_30', 'age_30_40', 'age_40_50', \n",
    "              'age_50_60', 'age_60_70', 'age_70_80', 'age_80_plus']"
   ]
  },
  {
   "cell_type": "code",
   "execution_count": 16,
   "metadata": {},
   "outputs": [],
   "source": [
    "parameters = {\n",
    "    # general simulation parameters\n",
    "    \"time\": 90,\n",
    "    \"number_of_agents\": 100,\n",
    "    \"monte_carlo_runs\": 1,\n",
    "    \"high_performance\": False,\n",
    "    # specific simulation parameters\n",
    "    \"share_inital_agents_infected\": 0.01, # percentage of agents infected randomly at the start of the simulation\n",
    "    \"highest_density_neighbourhood\": 0.4, # percentage of nodes the highest density neighbourhoods has compared to caveman graph\n",
    "    \"incubation_days\": 5, # average number of days agents are infected but do not have symptoms SOURCE Zhang et al. 2020\n",
    "    \"symptom_days\": 10,# average number of days agents have mild symptoms\n",
    "    \"critical_days\": 8, # average number of days agents are in critical condition\n",
    "    \"health_system_capacity\": 0.0021, # relative (in terms of population) capacity of the hospitals\n",
    "    \"no_hospital_multiplier\": 1.79, # the increase in probability if a critical agent cannot go to the hospital SOURCE: Zhou et al. 2020\n",
    "    \"travel_sample_size\": 0.02, # amount of agents that an agent might choose to travel to\n",
    "    # agent parameters\n",
    "    \"probability_transmission\": 0.25, # should be estimated to replicate realistic R0 number.\n",
    "    \"probability_to_travel\": 0.3, # should be estimated to replicate travel data \n",
    "    \"probability_critical\": {key:value for key, value in zip(age_groups, [0.001, 0.003, 0.012, 0.032, 0.049, 0.102, 0.166, 0.244, 0.273])}, # probability that an agent enters a critical stage of the disease SOURCE: Verity et al.\n",
    "    \"probability_to_die\": {key:value for key, value in zip(age_groups, [0.005, 0.021, 0.053, 0.126, 0.221, 0.303, 0.565, 0.653, 0.765])}, # probability to die per age group in critical stage SOURCE: Verity et al.\n",
    "    \"probability_susceptible\": 0.000, # probability that the agent will again be susceptible after having recovered\n",
    "    # experiment parameter\n",
    "    \"lockdown_days\" : [x for x in range(22, 57)], # 5 march was the first reported case, 27 march was the start of the lockdown 35 days\n",
    "    \"lockdown_travel_multiplier\": 0.5, # need estimate for this\n",
    "    \"lockdown_infection_multiplier\": 0.4 # need estimate for this\n",
    "}"
   ]
  },
  {
   "cell_type": "code",
   "execution_count": 17,
   "metadata": {},
   "outputs": [],
   "source": [
    "with open('parameters/ineffective_lock_down/parameters.json', 'w') as outfile:\n",
    "    json.dump(parameters, outfile)"
   ]
  },
  {
   "cell_type": "markdown",
   "metadata": {},
   "source": [
    "Include in population file the informality of Wards and translate that to simulation data. "
   ]
  },
  {
   "cell_type": "code",
   "execution_count": 18,
   "metadata": {},
   "outputs": [],
   "source": [
    "informal_residential = pd.read_csv('Informal_Residential.csv').iloc[:-1]"
   ]
  },
  {
   "cell_type": "code",
   "execution_count": 19,
   "metadata": {},
   "outputs": [],
   "source": [
    "# Create x, where x the 'scores' column's values as floats\n",
    "x = informal_residential[['Informal_residential']].values.astype(float)\n",
    "\n",
    "# # Create a minimum and maximum processor object\n",
    "min_max_scaler = preprocessing.MinMaxScaler()\n",
    "\n",
    "# # Create an object to transform the data to fit minmax processor\n",
    "x_scaled = min_max_scaler.fit_transform(x)\n",
    "\n",
    "# # Run the normalizer on the dataframe\n",
    "informal_residential['Informal_residential'] = pd.DataFrame(x_scaled)"
   ]
  },
  {
   "cell_type": "code",
   "execution_count": 20,
   "metadata": {},
   "outputs": [],
   "source": [
    "population = pd.read_csv('population.csv')"
   ]
  },
  {
   "cell_type": "code",
   "execution_count": 21,
   "metadata": {},
   "outputs": [],
   "source": [
    "population['Informal_residential'] = informal_residential['Informal_residential']"
   ]
  },
  {
   "cell_type": "code",
   "execution_count": 22,
   "metadata": {},
   "outputs": [
    {
     "data": {
      "text/html": [
       "<div>\n",
       "<style scoped>\n",
       "    .dataframe tbody tr th:only-of-type {\n",
       "        vertical-align: middle;\n",
       "    }\n",
       "\n",
       "    .dataframe tbody tr th {\n",
       "        vertical-align: top;\n",
       "    }\n",
       "\n",
       "    .dataframe thead th {\n",
       "        text-align: right;\n",
       "    }\n",
       "</style>\n",
       "<table border=\"1\" class=\"dataframe\">\n",
       "  <thead>\n",
       "    <tr style=\"text-align: right;\">\n",
       "      <th></th>\n",
       "      <th>WardID</th>\n",
       "      <th>Population</th>\n",
       "      <th>Area</th>\n",
       "      <th>Density</th>\n",
       "      <th>lon</th>\n",
       "      <th>lat</th>\n",
       "      <th>Informal_residential</th>\n",
       "    </tr>\n",
       "  </thead>\n",
       "  <tbody>\n",
       "    <tr>\n",
       "      <th>0</th>\n",
       "      <td>19100001</td>\n",
       "      <td>26434.07345</td>\n",
       "      <td>27213.359916</td>\n",
       "      <td>0.971364</td>\n",
       "      <td>18.612025</td>\n",
       "      <td>-33.857307</td>\n",
       "      <td>0.0</td>\n",
       "    </tr>\n",
       "    <tr>\n",
       "      <th>1</th>\n",
       "      <td>19100002</td>\n",
       "      <td>29914.18993</td>\n",
       "      <td>9222.458013</td>\n",
       "      <td>3.243624</td>\n",
       "      <td>18.422324</td>\n",
       "      <td>-34.069837</td>\n",
       "      <td>0.0</td>\n",
       "    </tr>\n",
       "    <tr>\n",
       "      <th>2</th>\n",
       "      <td>19100003</td>\n",
       "      <td>25735.62250</td>\n",
       "      <td>10891.277732</td>\n",
       "      <td>2.362957</td>\n",
       "      <td>18.476290</td>\n",
       "      <td>-34.048938</td>\n",
       "      <td>0.0</td>\n",
       "    </tr>\n",
       "  </tbody>\n",
       "</table>\n",
       "</div>"
      ],
      "text/plain": [
       "     WardID   Population          Area   Density        lon        lat  \\\n",
       "0  19100001  26434.07345  27213.359916  0.971364  18.612025 -33.857307   \n",
       "1  19100002  29914.18993   9222.458013  3.243624  18.422324 -34.069837   \n",
       "2  19100003  25735.62250  10891.277732  2.362957  18.476290 -34.048938   \n",
       "\n",
       "   Informal_residential  \n",
       "0                   0.0  \n",
       "1                   0.0  \n",
       "2                   0.0  "
      ]
     },
     "execution_count": 22,
     "metadata": {},
     "output_type": "execute_result"
    }
   ],
   "source": [
    "population.head(3)"
   ]
  },
  {
   "cell_type": "code",
   "execution_count": 23,
   "metadata": {},
   "outputs": [],
   "source": [
    "smallest_size = population['Population'].sum() / parameters['number_of_agents']\n",
    "neighbourhood_data = []\n",
    "for i in range(len(population)):\n",
    "    if population['Population'].iloc[i] > smallest_size:\n",
    "        neighbourhood_data.append(\n",
    "            [int(population['WardID'].iloc[i]), {'Population': population['Population'].iloc[i],\n",
    "                                                 'Density': population['Density'].iloc[i],\n",
    "                                                 'lon': population['lon'].iloc[i],\n",
    "                                                 'lat': population['lat'].iloc[i],\n",
    "                                                 'Informal_residential': population['Informal_residential'].iloc[i]\n",
    "                                                },\n",
    "            ])\n",
    "max_neighbourhoods = len(neighbourhood_data)"
   ]
  },
  {
   "cell_type": "code",
   "execution_count": 24,
   "metadata": {},
   "outputs": [],
   "source": [
    "with open('parameters/ineffective_lock_down/neighbourhood_data.json', 'w') as outfile:\n",
    "    json.dump(neighbourhood_data[:max_neighbourhoods], outfile)"
   ]
  },
  {
   "cell_type": "code",
   "execution_count": 25,
   "metadata": {},
   "outputs": [],
   "source": [
    "# load age data\n",
    "age_distribution = pd.read_csv('age_dist.csv', sep=';', index_col=0)\n",
    "age_distribution_per_ward = dict(age_distribution.transpose())"
   ]
  },
  {
   "cell_type": "markdown",
   "metadata": {},
   "source": [
    "### Run limited effectiveness lockdown scenario"
   ]
  },
  {
   "cell_type": "code",
   "execution_count": 26,
   "metadata": {},
   "outputs": [],
   "source": [
    "environment = EnvironmentNetwork(0, parameters, neighbourhood_data, age_distribution_per_ward)\n",
    "runner = Runner()\n",
    "runner.ineffective_lock_down(environment, 0)"
   ]
  },
  {
   "cell_type": "markdown",
   "metadata": {},
   "source": [
    "Safe network"
   ]
  },
  {
   "cell_type": "code",
   "execution_count": 27,
   "metadata": {},
   "outputs": [],
   "source": [
    "for idx, network in enumerate(environment.infection_states):\n",
    "    for i, node in enumerate(network.nodes):\n",
    "        network.nodes[i]['agent'] = network.nodes[i]['agent'].status\n",
    "\n",
    "    nx.write_graphml_lxml(network, \"measurement/network_time{}.graphml\".format(idx))"
   ]
  },
  {
   "cell_type": "code",
   "execution_count": 28,
   "metadata": {},
   "outputs": [],
   "source": [
    "infection_states = []\n",
    "for idx in range(parameters[\"time\"]):\n",
    "    infection_states.append(nx.read_graphml(\"measurement/network_time{}.graphml\".format(idx), node_type=int))"
   ]
  },
  {
   "cell_type": "code",
   "execution_count": 29,
   "metadata": {},
   "outputs": [],
   "source": [
    "susceptible_ot_if = []\n",
    "infected_1_ot_if = []\n",
    "infected_2_ot_if = []\n",
    "critical_ot_if = []\n",
    "dead_ot_if = []\n",
    "recovered_ot_if = []\n",
    "\n",
    "for t in range(parameters['time']):\n",
    "    network = infection_states[t]\n",
    "    susceptible = 0\n",
    "    infected_1 = 0\n",
    "    infected_2 = 0\n",
    "    critical = 0\n",
    "    dead = 0\n",
    "    recovered = 0\n",
    "    for idx, node in enumerate(network):\n",
    "        if network.nodes[idx]['agent'] == 's':\n",
    "            susceptible += 1\n",
    "        elif network.nodes[idx]['agent'] == 'i1':\n",
    "            infected_1 += 1\n",
    "        elif network.nodes[idx]['agent'] == 'i2':\n",
    "            infected_2 += 1\n",
    "        elif network.nodes[idx]['agent'] == 'c':\n",
    "            critical += 1\n",
    "        elif network.nodes[idx]['agent'] == 'd':\n",
    "            dead += 1\n",
    "        elif network.nodes[idx]['agent'] == 'r':\n",
    "            recovered +=1\n",
    "        else:\n",
    "            print('no status?')\n",
    "    \n",
    "    susceptible_ot_if.append((susceptible / float(len(network))) * population['Population'].sum())\n",
    "    infected_1_ot_if.append((infected_1 / float(len(network))) * population['Population'].sum())\n",
    "    infected_2_ot_if.append((infected_2 / float(len(network)))  * population['Population'].sum())\n",
    "    critical_ot_if.append((critical / float(len(network)))  * population['Population'].sum())\n",
    "    dead_ot_if.append((dead / float(len(network)))  * population['Population'].sum())\n",
    "    recovered_ot_if.append((recovered / float(len(network)))  * population['Population'].sum())"
   ]
  },
  {
   "cell_type": "code",
   "execution_count": 49,
   "metadata": {},
   "outputs": [
    {
     "data": {
      "image/png": "[encoded data removed]",
      "text/plain": [
       "<Figure size 1584x432 with 3 Axes>"
      ]
     },
     "metadata": {
      "needs_background": "light"
     },
     "output_type": "display_data"
    }
   ],
   "source": [
    "fig, (ax, ax3, ax_base) = plt.subplots(1, 3, figsize=(22,6))\n",
    "\n",
    "x = [x for x in range(parameters['time'])]\n",
    "\n",
    "labels = ['critical', 'infected-2', 'infected-1', 'recovered', 'susceptible', 'dead']\n",
    "\n",
    "y = np.vstack([critical_ot_if, infected_2_ot_if, infected_1_ot_if, recovered_ot_if, susceptible_ot_if, dead_ot_if])\n",
    "\n",
    "ax.axhline(parameters['health_system_capacity'] * population['Population'].sum(), color='black')\n",
    "ax.axvline(parameters[\"lockdown_days\"][0], color='black')\n",
    "ax.axvline(parameters[\"lockdown_days\"][-1], color='black')\n",
    "\n",
    "pal = [\"#f9b4ad\", \"#1b81c2\", \"#91b7d1\", \"#b7f0a5\", \"#e0e4ec\",\"#000000\"]\n",
    "\n",
    "ax.stackplot(x, y, colors= pal, labels=labels)\n",
    "ax.legend(loc='best', fontsize='14', frameon=True)\n",
    "ax.set_ylabel('Cape Town population', fontsize='14')\n",
    "ax.set_xlabel('Days', fontsize='14')\n",
    "\n",
    "ax.set_xlim([0,parameters['time']])\n",
    "ax.set_ylim([0, population['Population'].sum()])\n",
    "ax.set_title('ineffective lock down', fontsize='14')\n",
    "\n",
    "# baseline\n",
    "y_base = np.vstack([critical_ot_base, infected_2_ot_base, infected_1_ot_base, recovered_ot_base, susceptible_ot_base, dead_ot_base])\n",
    "\n",
    "ax_base.axhline(parameters['health_system_capacity'] * population['Population'].sum(), color='black')\n",
    "\n",
    "pal = [\"#f9b4ad\", \"#1b81c2\", \"#91b7d1\", \"#b7f0a5\", \"#e0e4ec\",\"#000000\"]\n",
    "\n",
    "ax_base.stackplot(x, y_base, colors= pal, labels=labels)\n",
    "ax_base.legend(loc='best', fontsize='14', frameon=True)\n",
    "ax_base.set_ylabel('Cape Town population', fontsize='14')\n",
    "ax_base.set_xlabel('Days', fontsize='14')\n",
    "\n",
    "ax_base.set_xlim([0,parameters['time']])\n",
    "ax_base.set_ylim([0, population['Population'].sum()])\n",
    "\n",
    "ax_base.set_title('baseline', fontsize='14')\n",
    "\n",
    "\n",
    "y3 = np.vstack([critical_ot, infected_2_ot, infected_1_ot, recovered_ot, susceptible_ot, dead_ot])\n",
    "\n",
    "ax3.axhline(parameters['health_system_capacity'] * population['Population'].sum(), color='black')\n",
    "ax3.axvline(parameters[\"lockdown_days\"][0], color='black')\n",
    "ax3.axvline(parameters[\"lockdown_days\"][-1], color='black')\n",
    "\n",
    "pal = [\"#f9b4ad\", \"#1b81c2\", \"#91b7d1\", \"#b7f0a5\", \"#e0e4ec\",\"#000000\"]\n",
    "\n",
    "ax3.stackplot(x, y3, colors= pal, labels=labels)\n",
    "ax3.legend(loc='best', fontsize='14', frameon=True)\n",
    "ax3.set_ylabel('Cape Town population', fontsize='14')\n",
    "ax3.set_xlabel('Days', fontsize='14')\n",
    "\n",
    "ax3.set_xlim([0,parameters['time']])\n",
    "ax3.set_ylim([0, population['Population'].sum()])\n",
    "ax3.set_title('lock down', fontsize='14')\n",
    "\n",
    "fig.savefig('measurement/lock_down_v_if_lockdown.png')"
   ]
  },
  {
   "cell_type": "code",
   "execution_count": null,
   "metadata": {},
   "outputs": [],
   "source": []
  }
 ],
 "metadata": {
  "kernelspec": {
   "display_name": "Python 3",
   "language": "python",
   "name": "python3"
  },
  "language_info": {
   "codemirror_mode": {
    "name": "ipython",
    "version": 3
   },
   "file_extension": ".py",
   "mimetype": "text/x-python",
   "name": "python",
   "nbconvert_exporter": "python",
   "pygments_lexer": "ipython3",
   "version": "3.7.3"
  }
 },
 "nbformat": 4,
 "nbformat_minor": 2
}
